{
 "cells": [
  {
   "cell_type": "code",
   "execution_count": 30,
   "id": "e7fb9574",
   "metadata": {},
   "outputs": [
    {
     "name": "stdout",
     "output_type": "stream",
     "text": [
      "Sam is younger than Albert\n"
     ]
    }
   ],
   "source": [
    "# if statement\n",
    "# Compare the age of two people, who's younger than other\n",
    "Sam_age = 35\n",
    "Albert_age = 41\n",
    "\n",
    "# if age of Sam is less than Albert then Sam is younger\n",
    "if (Sam_age < Albert_age):\n",
    "    print(\"Sam is younger than Albert\")"
   ]
  },
  {
   "cell_type": "code",
   "execution_count": 31,
   "id": "8bfc4d02",
   "metadata": {},
   "outputs": [
    {
     "name": "stdout",
     "output_type": "stream",
     "text": [
      "Potatoes is cheaper than Mangoes\n"
     ]
    }
   ],
   "source": [
    "# if-else statement\n",
    "potatoes_per_kg = 64\n",
    "mangoes_per_kg = 85\n",
    "\n",
    "if (potatoes_per_kg > mangoes_per_kg):\n",
    "    print(\"Potatoes is costly than Mangoes\")\n",
    "else:\n",
    "    print(\"Potatoes is cheaper than Mangoes\")"
   ]
  },
  {
   "cell_type": "code",
   "execution_count": 32,
   "id": "46811fde",
   "metadata": {},
   "outputs": [
    {
     "ename": "SyntaxError",
     "evalue": "invalid syntax (<ipython-input-32-3299bac54d8a>, line 5)",
     "output_type": "error",
     "traceback": [
      "\u001b[1;36m  File \u001b[1;32m\"<ipython-input-32-3299bac54d8a>\"\u001b[1;36m, line \u001b[1;32m5\u001b[0m\n\u001b[1;33m    else:\u001b[0m\n\u001b[1;37m       ^\u001b[0m\n\u001b[1;31mSyntaxError\u001b[0m\u001b[1;31m:\u001b[0m invalid syntax\n"
     ]
    }
   ],
   "source": [
    "if (10 < 7):\n",
    "    print(\"10 is smaller than 7\")\n",
    "else:\n",
    "    print(\"10 is greater than 7\")\n",
    "else:\n",
    "    print(\"condition closed\")"
   ]
  },
  {
   "cell_type": "code",
   "execution_count": 33,
   "id": "ecd33eee",
   "metadata": {},
   "outputs": [
    {
     "name": "stdout",
     "output_type": "stream",
     "text": [
      "person is obese\n"
     ]
    }
   ],
   "source": [
    "# BMI checker by using if, elif and else statement\n",
    "bmi = 32.4\n",
    "\n",
    "# Condition is true in the third or last elif statement\n",
    "if (bmi < 18.5):\n",
    "    print('person is underweight')\n",
    "elif (bmi < 25):\n",
    "    print('person is normal')\n",
    "elif (bmi < 30):\n",
    "    print('person is overweight')\n",
    "elif (bmi < 35):\n",
    "    print('person is obese')\n",
    "else:\n",
    "    print('person is extremely obese')"
   ]
  },
  {
   "cell_type": "code",
   "execution_count": 34,
   "id": "f6d51dc9",
   "metadata": {},
   "outputs": [
    {
     "name": "stdout",
     "output_type": "stream",
     "text": [
      "it's very hot, don't go outside. It will burn your skin.\n"
     ]
    }
   ],
   "source": [
    "# In this example, we check if all elif statment fail, the output should be from else statement\n",
    "temperature = 75\n",
    "\n",
    "if (temperature < 0):\n",
    "    print(\"it's cold outside.\")\n",
    "elif (temperature < 30):\n",
    "    print(\"temperature is stable, weather is pleasant.\")\n",
    "elif (temperature < 50):\n",
    "    print(\"it's hot,avoid to go outside.\")\n",
    "else:\n",
    "    print(\"it's very hot, don't go outside. It will burn your skin.\")"
   ]
  },
  {
   "cell_type": "code",
   "execution_count": 35,
   "id": "bb539244",
   "metadata": {},
   "outputs": [
    {
     "name": "stdout",
     "output_type": "stream",
     "text": [
      "Enter a number: -15\n",
      "Number is negative\n"
     ]
    }
   ],
   "source": [
    "# Nested if statement\n",
    "number = float(input(\"Enter a number: \"))\n",
    "\n",
    "if (number >= 0):\n",
    "    if (number == 0):\n",
    "        print(\"Number is zero\")\n",
    "    else:\n",
    "        print(\"Number is positive\")\n",
    "else:\n",
    "    print(\"Number is negative\")\n",
    "        "
   ]
  },
  {
   "cell_type": "code",
   "execution_count": 36,
   "id": "c447042f",
   "metadata": {},
   "outputs": [
    {
     "name": "stdout",
     "output_type": "stream",
     "text": [
      "35 is greater than 21\n",
      "Yes, you are correct.\n"
     ]
    }
   ],
   "source": [
    "# If single statement\n",
    "# complete code in one line\n",
    "if (35 > 21): print(\"35 is greater than 21\"); print(\"Yes, you are correct.\")"
   ]
  }
 ],
 "metadata": {
  "kernelspec": {
   "display_name": "Python 3",
   "language": "python",
   "name": "python3"
  },
  "language_info": {
   "codemirror_mode": {
    "name": "ipython",
    "version": 3
   },
   "file_extension": ".py",
   "mimetype": "text/x-python",
   "name": "python",
   "nbconvert_exporter": "python",
   "pygments_lexer": "ipython3",
   "version": "3.6.8"
  }
 },
 "nbformat": 4,
 "nbformat_minor": 5
}
