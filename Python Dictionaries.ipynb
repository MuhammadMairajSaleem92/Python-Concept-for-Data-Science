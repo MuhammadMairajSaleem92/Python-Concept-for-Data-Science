{
 "cells": [
  {
   "cell_type": "code",
   "execution_count": 27,
   "id": "2c902ab5",
   "metadata": {},
   "outputs": [
    {
     "name": "stdout",
     "output_type": "stream",
     "text": [
      "{'Fruit': 'Apple', 'Vegetable': 'Potato', 'Food': 'Fried Chicken'}\n"
     ]
    }
   ],
   "source": [
    "my_dict1 = {'Fruit': 'Apple', 'Vegetable' : 'Potato', 'Food' : 'Fried Chicken'}\n",
    "print(my_dict1)"
   ]
  },
  {
   "cell_type": "code",
   "execution_count": 28,
   "id": "5d9218c1",
   "metadata": {},
   "outputs": [
    {
     "name": "stdout",
     "output_type": "stream",
     "text": [
      "{1: 2, 3: 4}\n"
     ]
    }
   ],
   "source": [
    "# first create the list\n",
    "list_1 = ([1,2],[3,4])\n",
    "\n",
    "# Now make dictionary by using dict().\n",
    "my_dict2 = dict(list_1)\n",
    "print(my_dict2)"
   ]
  },
  {
   "cell_type": "code",
   "execution_count": 29,
   "id": "fbb0145d",
   "metadata": {},
   "outputs": [
    {
     "data": {
      "text/plain": [
       "dict_keys(['Fruit', 'Vegetable', 'Food'])"
      ]
     },
     "execution_count": 29,
     "metadata": {},
     "output_type": "execute_result"
    }
   ],
   "source": [
    "my_dict1.keys()"
   ]
  },
  {
   "cell_type": "code",
   "execution_count": 30,
   "id": "eba0cfc6",
   "metadata": {},
   "outputs": [
    {
     "data": {
      "text/plain": [
       "dict_values(['Apple', 'Potato', 'Fried Chicken'])"
      ]
     },
     "execution_count": 30,
     "metadata": {},
     "output_type": "execute_result"
    }
   ],
   "source": [
    "my_dict1.values()"
   ]
  },
  {
   "cell_type": "code",
   "execution_count": 31,
   "id": "03f1ec31",
   "metadata": {},
   "outputs": [
    {
     "name": "stdout",
     "output_type": "stream",
     "text": [
      "{'name': 'Sam', 'city': 'Bristol', 'country': 'United Kingdom'}\n"
     ]
    }
   ],
   "source": [
    "my_dict3 = {'name' : 'Sam', 'city' : 'London', 'country' : 'United Kingdom', 'city' : 'Bristol'}\n",
    "print(my_dict3)"
   ]
  },
  {
   "cell_type": "code",
   "execution_count": 39,
   "id": "ba3a714d",
   "metadata": {},
   "outputs": [
    {
     "name": "stdout",
     "output_type": "stream",
     "text": [
      "Sam\n",
      "United Kingdom\n"
     ]
    }
   ],
   "source": [
    "# To access the value from Dictionary\n",
    "print(my_dict3['name'])\n",
    "print(my_dict3['country'])"
   ]
  },
  {
   "cell_type": "code",
   "execution_count": 41,
   "id": "1c3bae85",
   "metadata": {},
   "outputs": [
    {
     "name": "stdout",
     "output_type": "stream",
     "text": [
      "Bristol\n",
      "Sam\n"
     ]
    }
   ],
   "source": [
    "# Another way to access the value from Dictionary by using get() command:\n",
    "print(my_dict3.get('city'))\n",
    "print(my_dict3.get('name'))"
   ]
  },
  {
   "cell_type": "code",
   "execution_count": 43,
   "id": "26cb277b",
   "metadata": {},
   "outputs": [
    {
     "name": "stdout",
     "output_type": "stream",
     "text": [
      "Sam\n",
      "United Kingdom\n"
     ]
    }
   ],
   "source": [
    "# For multiple values from Dictionary\n",
    "# first make the list of keys to access\n",
    "keys = ['name', 'country']\n",
    "\n",
    "# Now apply for loop\n",
    "for key in keys:\n",
    "    print(my_dict3.get(key))"
   ]
  },
  {
   "cell_type": "code",
   "execution_count": 44,
   "id": "4e0c9c13",
   "metadata": {},
   "outputs": [
    {
     "name": "stdout",
     "output_type": "stream",
     "text": [
      "{'name': 'Sam', 'city': 'Manchester', 'country': 'United Kingdom'}\n"
     ]
    }
   ],
   "source": [
    "my_dict3['city'] = 'Manchester'\n",
    "print(my_dict3)"
   ]
  },
  {
   "cell_type": "code",
   "execution_count": 45,
   "id": "4a32b316",
   "metadata": {},
   "outputs": [
    {
     "name": "stdout",
     "output_type": "stream",
     "text": [
      "{'name': 'Sam', 'city': 'Manchester', 'country': 'United Kingdom', 'gender': 'Male'}\n"
     ]
    }
   ],
   "source": [
    "my_dict3['gender'] = 'Male'\n",
    "print(my_dict3)"
   ]
  },
  {
   "cell_type": "code",
   "execution_count": 46,
   "id": "3dac6bcf",
   "metadata": {},
   "outputs": [
    {
     "ename": "NameError",
     "evalue": "name 'my_dict2' is not defined",
     "output_type": "error",
     "traceback": [
      "\u001b[1;31m---------------------------------------------------------------------------\u001b[0m",
      "\u001b[1;31mNameError\u001b[0m                                 Traceback (most recent call last)",
      "\u001b[1;32m<ipython-input-46-0df85467a370>\u001b[0m in \u001b[0;36m<module>\u001b[1;34m\u001b[0m\n\u001b[0;32m      1\u001b[0m \u001b[1;31m# Deleting an entire dictionary\u001b[0m\u001b[1;33m\u001b[0m\u001b[1;33m\u001b[0m\u001b[1;33m\u001b[0m\u001b[0m\n\u001b[0;32m      2\u001b[0m \u001b[1;32mdel\u001b[0m \u001b[0mmy_dict2\u001b[0m\u001b[1;33m\u001b[0m\u001b[1;33m\u001b[0m\u001b[0m\n\u001b[1;32m----> 3\u001b[1;33m \u001b[0mprint\u001b[0m\u001b[1;33m(\u001b[0m\u001b[0mmy_dict2\u001b[0m\u001b[1;33m)\u001b[0m\u001b[1;33m\u001b[0m\u001b[1;33m\u001b[0m\u001b[0m\n\u001b[0m",
      "\u001b[1;31mNameError\u001b[0m: name 'my_dict2' is not defined"
     ]
    }
   ],
   "source": [
    "# Deleting an entire dictionary\n",
    "del my_dict2\n",
    "print(my_dict2)"
   ]
  },
  {
   "cell_type": "code",
   "execution_count": 47,
   "id": "94777abf",
   "metadata": {},
   "outputs": [
    {
     "name": "stdout",
     "output_type": "stream",
     "text": [
      "{'name': 'Sam', 'city': 'Manchester', 'country': 'United Kingdom'}\n"
     ]
    }
   ],
   "source": [
    "# Deleting the gender key from my_dict3\n",
    "del my_dict3['gender']\n",
    "print(my_dict3)"
   ]
  },
  {
   "cell_type": "code",
   "execution_count": null,
   "id": "9aec89df",
   "metadata": {},
   "outputs": [],
   "source": []
  }
 ],
 "metadata": {
  "kernelspec": {
   "display_name": "Python 3",
   "language": "python",
   "name": "python3"
  },
  "language_info": {
   "codemirror_mode": {
    "name": "ipython",
    "version": 3
   },
   "file_extension": ".py",
   "mimetype": "text/x-python",
   "name": "python",
   "nbconvert_exporter": "python",
   "pygments_lexer": "ipython3",
   "version": "3.6.8"
  }
 },
 "nbformat": 4,
 "nbformat_minor": 5
}
